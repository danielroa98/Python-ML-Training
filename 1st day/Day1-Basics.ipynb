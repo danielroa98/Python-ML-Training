{
 "cells": [
  {
   "cell_type": "markdown",
   "id": "6a2698e6",
   "metadata": {},
   "source": [
    "# Variable declaration"
   ]
  },
  {
   "cell_type": "code",
   "execution_count": 6,
   "id": "f053024e",
   "metadata": {},
   "outputs": [],
   "source": [
    "# Python does type inferencing\n",
    "salary = 24000.90"
   ]
  },
  {
   "cell_type": "code",
   "execution_count": 8,
   "id": "df1788a7",
   "metadata": {},
   "outputs": [
    {
     "name": "stdout",
     "output_type": "stream",
     "text": [
      "Datatype is <class 'float'>\n",
      "Value is 24000.9\n"
     ]
    }
   ],
   "source": [
    "print(f\"Datatype is {type(salary)}\\nValue is {salary}\")"
   ]
  },
  {
   "cell_type": "code",
   "execution_count": 9,
   "id": "b0e4b5fe",
   "metadata": {},
   "outputs": [],
   "source": [
    "# Using single ('') or double (\"\") quotes doesn't matter in Python\n",
    "name = \"Steven\"\n",
    "bonus = 5000\n",
    "indicator = True"
   ]
  },
  {
   "cell_type": "code",
   "execution_count": 10,
   "id": "bee8db69",
   "metadata": {},
   "outputs": [
    {
     "name": "stdout",
     "output_type": "stream",
     "text": [
      "Steven 5000 True\n",
      "<class 'str'> <class 'int'> <class 'bool'>\n"
     ]
    }
   ],
   "source": [
    "print(name, bonus, indicator)\n",
    "print(type(name), type(bonus), type(indicator))"
   ]
  },
  {
   "cell_type": "markdown",
   "id": "656e8e6e",
   "metadata": {},
   "source": [
    "# Arithmetic operations"
   ]
  },
  {
   "cell_type": "code",
   "execution_count": 12,
   "id": "1c8ed09c",
   "metadata": {},
   "outputs": [],
   "source": [
    "num1 = 10\n",
    "num2 = 20"
   ]
  },
  {
   "cell_type": "code",
   "execution_count": 14,
   "id": "ee059d6a",
   "metadata": {},
   "outputs": [
    {
     "name": "stdout",
     "output_type": "stream",
     "text": [
      "Results 2400\n"
     ]
    }
   ],
   "source": [
    "result = (num1*10 + num2*90)+500\n",
    "print(\"Results\", result)"
   ]
  },
  {
   "cell_type": "code",
   "execution_count": 15,
   "id": "86792907",
   "metadata": {},
   "outputs": [
    {
     "name": "stdout",
     "output_type": "stream",
     "text": [
      "Comparison True\n"
     ]
    }
   ],
   "source": [
    "result = (num1<num2) and (num1 != num2)\n",
    "print(\"Comparison\", result)"
   ]
  },
  {
   "cell_type": "markdown",
   "id": "f14cc220",
   "metadata": {},
   "source": [
    "# Loops"
   ]
  },
  {
   "cell_type": "markdown",
   "id": "569969a6",
   "metadata": {},
   "source": [
    "## While loops"
   ]
  },
  {
   "cell_type": "code",
   "execution_count": 16,
   "id": "db3c96ac",
   "metadata": {},
   "outputs": [
    {
     "name": "stdout",
     "output_type": "stream",
     "text": [
      "0\n",
      "1\n",
      "2\n",
      "3\n",
      "4\n",
      "5\n",
      "6\n",
      "7\n",
      "8\n",
      "9\n",
      "10\n",
      "-------End of loop-------\n"
     ]
    }
   ],
   "source": [
    "counter = 0\n",
    "\n",
    "while(counter <= 10):\n",
    "    print(counter)\n",
    "    counter += 1\n",
    "    \n",
    "print(\"-------End of loop-------\")"
   ]
  },
  {
   "cell_type": "code",
   "execution_count": 18,
   "id": "a523a50d",
   "metadata": {},
   "outputs": [
    {
     "name": "stdout",
     "output_type": "stream",
     "text": [
      "0\n",
      "-------End of loop-------\n",
      "1\n",
      "-------End of loop-------\n",
      "2\n",
      "-------End of loop-------\n",
      "3\n",
      "-------End of loop-------\n",
      "4\n",
      "-------End of loop-------\n",
      "5\n",
      "-------End of loop-------\n",
      "6\n",
      "-------End of loop-------\n",
      "7\n",
      "-------End of loop-------\n",
      "8\n",
      "-------End of loop-------\n",
      "9\n",
      "-------End of loop-------\n",
      "10\n",
      "-------End of loop-------\n"
     ]
    }
   ],
   "source": [
    "counter = 0\n",
    "\n",
    "while(counter<=10):\n",
    "    print(counter)\n",
    "    counter += 1\n",
    "    print(\"-------End of loop-------\")"
   ]
  },
  {
   "cell_type": "markdown",
   "id": "132ef5ff",
   "metadata": {},
   "source": [
    "## For loop"
   ]
  },
  {
   "cell_type": "code",
   "execution_count": null,
   "id": "266ffc3e",
   "metadata": {},
   "outputs": [],
   "source": [
    "\"\"\"\"\n",
    "range(start, stop, step)\n",
    "start -> default 0\n",
    "stop  -> Mandatory, upper bounds are excluded\n",
    "step  -> Default 1, increment by\n",
    "\"\"\"\""
   ]
  },
  {
   "cell_type": "code",
   "execution_count": 19,
   "id": "e4dff094",
   "metadata": {},
   "outputs": [
    {
     "name": "stdout",
     "output_type": "stream",
     "text": [
      "1\n",
      "2\n",
      "3\n",
      "4\n",
      "5\n",
      "6\n",
      "7\n",
      "8\n",
      "9\n"
     ]
    }
   ],
   "source": [
    "for i in range(1, 10):\n",
    "    print(i)"
   ]
  },
  {
   "cell_type": "code",
   "execution_count": 20,
   "id": "33aa01df",
   "metadata": {},
   "outputs": [
    {
     "name": "stdout",
     "output_type": "stream",
     "text": [
      "0\n",
      "1\n",
      "2\n",
      "3\n",
      "4\n"
     ]
    }
   ],
   "source": [
    "for i in range(5):\n",
    "    print(i)"
   ]
  },
  {
   "cell_type": "code",
   "execution_count": 21,
   "id": "360a714b",
   "metadata": {},
   "outputs": [
    {
     "name": "stdout",
     "output_type": "stream",
     "text": [
      "10\n",
      "20\n",
      "30\n",
      "40\n",
      "50\n",
      "60\n",
      "70\n",
      "80\n",
      "90\n"
     ]
    }
   ],
   "source": [
    "for i in range(10,100,10):\n",
    "    print(i)"
   ]
  },
  {
   "cell_type": "code",
   "execution_count": 22,
   "id": "37fa583e",
   "metadata": {},
   "outputs": [
    {
     "name": "stdout",
     "output_type": "stream",
     "text": [
      "10\n",
      "9\n",
      "8\n",
      "7\n",
      "6\n",
      "5\n",
      "4\n",
      "3\n",
      "2\n",
      "1\n"
     ]
    }
   ],
   "source": [
    "for i in range(10,0,-1):\n",
    "    print(i)"
   ]
  },
  {
   "cell_type": "markdown",
   "id": "5a093c1b",
   "metadata": {},
   "source": [
    "## List"
   ]
  },
  {
   "cell_type": "code",
   "execution_count": 23,
   "id": "81640820",
   "metadata": {},
   "outputs": [],
   "source": [
    "mList = [11,22,33,44,55,66,77,88,99]"
   ]
  },
  {
   "cell_type": "code",
   "execution_count": 24,
   "id": "8ba8b6e4",
   "metadata": {},
   "outputs": [
    {
     "name": "stdout",
     "output_type": "stream",
     "text": [
      "Datatype  <class 'list'>\n",
      "Value [11, 22, 33, 44, 55, 66, 77, 88, 99]\n",
      "Number of elements 9\n"
     ]
    }
   ],
   "source": [
    "print(\"Datatype \", type(mList))\n",
    "print(\"Value\", mList)\n",
    "print(\"Number of elements\", len(mList))"
   ]
  },
  {
   "cell_type": "code",
   "execution_count": 25,
   "id": "e2eaa595",
   "metadata": {},
   "outputs": [
    {
     "name": "stdout",
     "output_type": "stream",
     "text": [
      "11\n",
      "33\n",
      "66\n"
     ]
    }
   ],
   "source": [
    "print(mList[0])\n",
    "print(mList[2])\n",
    "print(mList[5])"
   ]
  },
  {
   "cell_type": "code",
   "execution_count": 26,
   "id": "429812fe",
   "metadata": {},
   "outputs": [
    {
     "name": "stdout",
     "output_type": "stream",
     "text": [
      "11 22 33 44 55 66 77 88 99 "
     ]
    }
   ],
   "source": [
    "for i in mList:\n",
    "    print(i, end=\" \")"
   ]
  },
  {
   "cell_type": "code",
   "execution_count": 27,
   "id": "553a8c98",
   "metadata": {},
   "outputs": [
    {
     "data": {
      "text/plain": [
       "[11, 22, 33, 44, 55, 66, 77, 88, 99]"
      ]
     },
     "execution_count": 27,
     "metadata": {},
     "output_type": "execute_result"
    }
   ],
   "source": [
    "mList"
   ]
  },
  {
   "cell_type": "code",
   "execution_count": 29,
   "id": "d50e2d1d",
   "metadata": {},
   "outputs": [
    {
     "name": "stdout",
     "output_type": "stream",
     "text": [
      "[11, 22, 33, 44, 55, 66, 77, 88, 99, 97, 5]\n"
     ]
    }
   ],
   "source": [
    "mList.append(5)\n",
    "print(mList)"
   ]
  },
  {
   "cell_type": "code",
   "execution_count": null,
   "id": "103017b4",
   "metadata": {},
   "outputs": [],
   "source": [
    "mList.append(97)\n",
    "print(mList)"
   ]
  },
  {
   "cell_type": "code",
   "execution_count": 30,
   "id": "fe04f132",
   "metadata": {},
   "outputs": [
    {
     "name": "stdout",
     "output_type": "stream",
     "text": [
      "[5, 11, 22, 33, 44, 55, 66, 77, 88, 97, 99]\n"
     ]
    }
   ],
   "source": [
    "mList.sort()\n",
    "print(mList)"
   ]
  },
  {
   "cell_type": "markdown",
   "id": "1c7cabf6",
   "metadata": {},
   "source": [
    "## Tuples\n",
    "Immutable list of values"
   ]
  },
  {
   "cell_type": "code",
   "execution_count": null,
   "id": "ec02b6df",
   "metadata": {},
   "outputs": [],
   "source": []
  },
  {
   "cell_type": "markdown",
   "id": "f337b9f0",
   "metadata": {},
   "source": [
    "## Dictionary"
   ]
  },
  {
   "cell_type": "code",
   "execution_count": 31,
   "id": "af1cc0d0",
   "metadata": {},
   "outputs": [],
   "source": [
    "# empDict = {key:value}\n",
    "empDict = {\"eid\":100,\"name\":\"steven\",\"salary\":24000.89,\"job\":\"salesRep\"}"
   ]
  },
  {
   "cell_type": "code",
   "execution_count": 32,
   "id": "526916e6",
   "metadata": {},
   "outputs": [
    {
     "name": "stdout",
     "output_type": "stream",
     "text": [
      "Datatype <class 'dict'>\n",
      "All values {'eid': 100, 'name': 'steven', 'salary': 24000.89, 'job': 'salesRep'}\n",
      "Only Keys dict_keys(['eid', 'name', 'salary', 'job'])\n",
      "Only Values dict_values([100, 'steven', 24000.89, 'salesRep'])\n",
      "Value at key name steven\n"
     ]
    }
   ],
   "source": [
    "print(\"Datatype\", type(empDict))\n",
    "print(\"All values\", empDict)\n",
    "print(\"Only Keys\", empDict.keys())\n",
    "print(\"Only Values\", empDict.values())\n",
    "print(\"Value at key name\", empDict[\"name\"])"
   ]
  },
  {
   "cell_type": "code",
   "execution_count": 33,
   "id": "25b41327",
   "metadata": {},
   "outputs": [
    {
     "name": "stdout",
     "output_type": "stream",
     "text": [
      "eid 100\n",
      "name steven\n",
      "salary 24000.89\n",
      "job salesRep\n"
     ]
    }
   ],
   "source": [
    "for i in empDict:\n",
    "    print(i, empDict[i])"
   ]
  },
  {
   "cell_type": "markdown",
   "id": "d6d6157b",
   "metadata": {},
   "source": [
    "## Slicing"
   ]
  },
  {
   "cell_type": "code",
   "execution_count": 34,
   "id": "0c52e9f1",
   "metadata": {},
   "outputs": [],
   "source": [
    "letters = [\"a\",\"b\",\"c\",\"d\",\"e\",\"f\",\"g\",\"h\",\"i\",\"j\"]"
   ]
  },
  {
   "cell_type": "code",
   "execution_count": 35,
   "id": "d1d18822",
   "metadata": {},
   "outputs": [
    {
     "data": {
      "text/plain": [
       "['a', 'b', 'c', 'd', 'e', 'f', 'g', 'h', 'i', 'j']"
      ]
     },
     "execution_count": 35,
     "metadata": {},
     "output_type": "execute_result"
    }
   ],
   "source": [
    "# everything in the list\n",
    "letters[:]"
   ]
  },
  {
   "cell_type": "code",
   "execution_count": 36,
   "id": "b6343a6f",
   "metadata": {},
   "outputs": [
    {
     "data": {
      "text/plain": [
       "['a', 'b', 'c', 'd', 'e', 'f', 'g', 'h', 'i', 'j']"
      ]
     },
     "execution_count": 36,
     "metadata": {},
     "output_type": "execute_result"
    }
   ],
   "source": [
    "# everything in the list\n",
    "letters[::]"
   ]
  },
  {
   "cell_type": "code",
   "execution_count": 37,
   "id": "02e9b01c",
   "metadata": {},
   "outputs": [
    {
     "data": {
      "text/plain": [
       "['c', 'd', 'e', 'f', 'g', 'h', 'i', 'j']"
      ]
     },
     "execution_count": 37,
     "metadata": {},
     "output_type": "execute_result"
    }
   ],
   "source": [
    "letters[2:]"
   ]
  },
  {
   "cell_type": "code",
   "execution_count": 38,
   "id": "ff1ef23d",
   "metadata": {},
   "outputs": [
    {
     "data": {
      "text/plain": [
       "['a', 'b', 'c', 'd', 'e', 'f', 'g']"
      ]
     },
     "execution_count": 38,
     "metadata": {},
     "output_type": "execute_result"
    }
   ],
   "source": [
    "letters[:7]"
   ]
  },
  {
   "cell_type": "code",
   "execution_count": 39,
   "id": "560f0388",
   "metadata": {},
   "outputs": [
    {
     "data": {
      "text/plain": [
       "['c', 'd', 'e', 'f', 'g']"
      ]
     },
     "execution_count": 39,
     "metadata": {},
     "output_type": "execute_result"
    }
   ],
   "source": [
    "# Start 0 stop 7 step 1\n",
    "letters[2:7]"
   ]
  },
  {
   "cell_type": "code",
   "execution_count": 41,
   "id": "068e71a7",
   "metadata": {},
   "outputs": [
    {
     "data": {
      "text/plain": [
       "['c', 'd', 'e', 'f', 'g']"
      ]
     },
     "execution_count": 41,
     "metadata": {},
     "output_type": "execute_result"
    }
   ],
   "source": [
    "# Start 0 Stop 7 Step 1\n",
    "letters[-8:-3]"
   ]
  },
  {
   "cell_type": "code",
   "execution_count": 42,
   "id": "4a80ba04",
   "metadata": {},
   "outputs": [
    {
     "data": {
      "text/plain": [
       "['b', 'c', 'd', 'e']"
      ]
     },
     "execution_count": 42,
     "metadata": {},
     "output_type": "execute_result"
    }
   ],
   "source": [
    "# Start 1 Stop -5 Step 1\n",
    "letters[1:-5]"
   ]
  },
  {
   "cell_type": "code",
   "execution_count": 43,
   "id": "0e41162f",
   "metadata": {},
   "outputs": [
    {
     "data": {
      "text/plain": [
       "[]"
      ]
     },
     "execution_count": 43,
     "metadata": {},
     "output_type": "execute_result"
    }
   ],
   "source": [
    "# Start 1 Stop 3 Step 1\n",
    "letters[7:3:1]"
   ]
  },
  {
   "cell_type": "code",
   "execution_count": 44,
   "id": "34a86a40",
   "metadata": {},
   "outputs": [
    {
     "data": {
      "text/plain": [
       "['h', 'g', 'f', 'e']"
      ]
     },
     "execution_count": 44,
     "metadata": {},
     "output_type": "execute_result"
    }
   ],
   "source": [
    "# Start 1 Stop 3 Step -1\n",
    "letters[7:3:-1]"
   ]
  },
  {
   "cell_type": "code",
   "execution_count": 45,
   "id": "8d0e8b5b",
   "metadata": {},
   "outputs": [
    {
     "data": {
      "text/plain": [
       "['i', 'h', 'g', 'f', 'e', 'd', 'c']"
      ]
     },
     "execution_count": 45,
     "metadata": {},
     "output_type": "execute_result"
    }
   ],
   "source": [
    "# Start -7 Stop -9 Step -1\n",
    "letters[-2:-9:-1]"
   ]
  },
  {
   "cell_type": "code",
   "execution_count": 47,
   "id": "dbdfafaf",
   "metadata": {},
   "outputs": [
    {
     "data": {
      "text/plain": [
       "['c', 'd', 'e', 'f', 'g', 'h', 'i', 'j']"
      ]
     },
     "execution_count": 47,
     "metadata": {},
     "output_type": "execute_result"
    }
   ],
   "source": [
    "# Start 2 Stop 30 Step 1\n",
    "letters[2:30]"
   ]
  },
  {
   "cell_type": "code",
   "execution_count": 48,
   "id": "d13c6d2a",
   "metadata": {},
   "outputs": [
    {
     "data": {
      "text/plain": [
       "['f', 'g', 'h', 'i', 'j']"
      ]
     },
     "execution_count": 48,
     "metadata": {},
     "output_type": "execute_result"
    }
   ],
   "source": [
    "# display last 5 elements in the list\n",
    "letters[-5:]"
   ]
  },
  {
   "cell_type": "code",
   "execution_count": 49,
   "id": "504ec87c",
   "metadata": {},
   "outputs": [
    {
     "data": {
      "text/plain": [
       "['a', 'b', 'c', 'd', 'e', 'f', 'g', 'h', 'i']"
      ]
     },
     "execution_count": 49,
     "metadata": {},
     "output_type": "execute_result"
    }
   ],
   "source": [
    "# Display the entire list except the last value\n",
    "letters[0:-1]"
   ]
  },
  {
   "cell_type": "code",
   "execution_count": 50,
   "id": "eaf96ba2",
   "metadata": {},
   "outputs": [
    {
     "data": {
      "text/plain": [
       "['a', 'b', 'c', 'd', 'e', 'f', 'g', 'h', 'i', 'j']"
      ]
     },
     "execution_count": 50,
     "metadata": {},
     "output_type": "execute_result"
    }
   ],
   "source": [
    "# Step 1\n",
    "letters[::1]"
   ]
  },
  {
   "cell_type": "code",
   "execution_count": 51,
   "id": "0a21dbfd",
   "metadata": {},
   "outputs": [
    {
     "data": {
      "text/plain": [
       "['a', 'c', 'e', 'g', 'i']"
      ]
     },
     "execution_count": 51,
     "metadata": {},
     "output_type": "execute_result"
    }
   ],
   "source": [
    "# Step 2\n",
    "letters[::2]"
   ]
  },
  {
   "cell_type": "code",
   "execution_count": 52,
   "id": "f6cbb064",
   "metadata": {},
   "outputs": [
    {
     "data": {
      "text/plain": [
       "['a', 'd', 'g', 'j']"
      ]
     },
     "execution_count": 52,
     "metadata": {},
     "output_type": "execute_result"
    }
   ],
   "source": [
    "# Step 3\n",
    "letters[::3]"
   ]
  },
  {
   "cell_type": "code",
   "execution_count": null,
   "id": "d25c0886",
   "metadata": {},
   "outputs": [],
   "source": []
  }
 ],
 "metadata": {
  "kernelspec": {
   "display_name": "Python 3 (ipykernel)",
   "language": "python",
   "name": "python3"
  },
  "language_info": {
   "codemirror_mode": {
    "name": "ipython",
    "version": 3
   },
   "file_extension": ".py",
   "mimetype": "text/x-python",
   "name": "python",
   "nbconvert_exporter": "python",
   "pygments_lexer": "ipython3",
   "version": "3.9.12"
  }
 },
 "nbformat": 4,
 "nbformat_minor": 5
}
