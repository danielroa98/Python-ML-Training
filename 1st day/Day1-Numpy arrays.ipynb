{
 "cells": [
  {
   "cell_type": "code",
   "execution_count": 1,
   "id": "43657a52",
   "metadata": {},
   "outputs": [],
   "source": [
    "import numpy as np"
   ]
  },
  {
   "cell_type": "code",
   "execution_count": 2,
   "id": "4eaa20ae",
   "metadata": {},
   "outputs": [],
   "source": [
    "mList = [11,22,33,44,55,66,77,88,99]\n",
    "arr = np.array(mList)"
   ]
  },
  {
   "cell_type": "code",
   "execution_count": 3,
   "id": "9c36caaa",
   "metadata": {},
   "outputs": [
    {
     "name": "stdout",
     "output_type": "stream",
     "text": [
      "Datatype <class 'numpy.ndarray'>\n",
      "Values [11 22 33 44 55 66 77 88 99]\n",
      "Depth/Dimension 1\n",
      "Value at index 5 is 66\n",
      "Value at index 0 to 5 [11 22 33 44 55]\n"
     ]
    }
   ],
   "source": [
    "print(f\"Datatype {type(arr)}\\nValues {arr}\\nDepth/Dimension {arr.ndim}\\nValue at index 5 is {arr[5]}\\nValue at index 0 to 5 {arr[0:5]}\")"
   ]
  },
  {
   "cell_type": "code",
   "execution_count": 5,
   "id": "d55f9151",
   "metadata": {},
   "outputs": [
    {
     "data": {
      "text/plain": [
       "array([11, 22, 33, 44, 55, 66, 77, 88, 99])"
      ]
     },
     "execution_count": 5,
     "metadata": {},
     "output_type": "execute_result"
    }
   ],
   "source": [
    "arr"
   ]
  },
  {
   "cell_type": "code",
   "execution_count": 6,
   "id": "9e9f7a68",
   "metadata": {},
   "outputs": [
    {
     "data": {
      "text/plain": [
       "array([110, 220, 330, 440, 550, 660, 770, 880, 990])"
      ]
     },
     "execution_count": 6,
     "metadata": {},
     "output_type": "execute_result"
    }
   ],
   "source": [
    "arr*10"
   ]
  },
  {
   "cell_type": "code",
   "execution_count": 7,
   "id": "4067e9c8",
   "metadata": {},
   "outputs": [
    {
     "data": {
      "text/plain": [
       "array([111, 122, 133, 144, 155, 166, 177, 188, 199])"
      ]
     },
     "execution_count": 7,
     "metadata": {},
     "output_type": "execute_result"
    }
   ],
   "source": [
    "arr+100"
   ]
  },
  {
   "cell_type": "code",
   "execution_count": 8,
   "id": "02818768",
   "metadata": {},
   "outputs": [
    {
     "data": {
      "text/plain": [
       "array([ 2, 13, 24, 35, 46, 57, 68, 79, 90])"
      ]
     },
     "execution_count": 8,
     "metadata": {},
     "output_type": "execute_result"
    }
   ],
   "source": [
    "arr-9"
   ]
  },
  {
   "cell_type": "code",
   "execution_count": 9,
   "id": "60fb406e",
   "metadata": {},
   "outputs": [
    {
     "data": {
      "text/plain": [
       "array([0.11, 0.22, 0.33, 0.44, 0.55, 0.66, 0.77, 0.88, 0.99])"
      ]
     },
     "execution_count": 9,
     "metadata": {},
     "output_type": "execute_result"
    }
   ],
   "source": [
    "arr/100"
   ]
  },
  {
   "cell_type": "code",
   "execution_count": 10,
   "id": "f2b6e263",
   "metadata": {},
   "outputs": [
    {
     "data": {
      "text/plain": [
       "array([0.1, 0.2, 0.3, 0.4, 0.6, 0.7, 0.8, 0.9, 1. ])"
      ]
     },
     "execution_count": 10,
     "metadata": {},
     "output_type": "execute_result"
    }
   ],
   "source": [
    "np.round(arr/100,1)"
   ]
  },
  {
   "cell_type": "code",
   "execution_count": 13,
   "id": "c765cc49",
   "metadata": {},
   "outputs": [
    {
     "name": "stdout",
     "output_type": "stream",
     "text": [
      "Max 99\n",
      "Min 11\n",
      "Mean 55.0\n",
      "Sum 495\n"
     ]
    }
   ],
   "source": [
    "print(f\"Max {arr.max()}\\nMin {arr.min()}\\nMean {arr.mean()}\\nSum {arr.sum()}\")"
   ]
  },
  {
   "cell_type": "code",
   "execution_count": 15,
   "id": "f273e6fa",
   "metadata": {
    "collapsed": true
   },
   "outputs": [
    {
     "data": {
      "text/plain": [
       "array(['11', 'oracle', '22', '33', '44', 'True', 'False', 'True', '77.89'],\n",
       "      dtype='<U32')"
      ]
     },
     "execution_count": 15,
     "metadata": {},
     "output_type": "execute_result"
    }
   ],
   "source": [
    "# Numpy arrays only hold single datatype values\n",
    "# boolean ----> integer ----> float ----> String (32-bit unicode)\n",
    "mArr = np.array([11, \"oracle\",22,33,44,True,False,True,77.89])\n",
    "mArr"
   ]
  },
  {
   "cell_type": "markdown",
   "id": "43b82b92",
   "metadata": {},
   "source": [
    "# Finance data"
   ]
  },
  {
   "cell_type": "code",
   "execution_count": 17,
   "id": "b21f2281",
   "metadata": {},
   "outputs": [],
   "source": [
    "# input data\n",
    "revenue = [14574.49, 7606.46, 8611.41, 9175.41, 8058.65, 8105.44, 11496.28, 9766.09, 10305.32, 14379.96, 10713.97, 15433.50]\n",
    "expenses = [12051.82, 5695.07, 12319.20, 12089.72, 8658.57, 840.20, 3285.73, 5821.12, 6976.93, 16618.61, 10054.37, 3803.96]"
   ]
  },
  {
   "cell_type": "code",
   "execution_count": 18,
   "id": "d1bf018c",
   "metadata": {},
   "outputs": [],
   "source": [
    "revenue = np.array(revenue)\n",
    "expenses = np.array(expenses)"
   ]
  },
  {
   "cell_type": "code",
   "execution_count": 19,
   "id": "046a8e80",
   "metadata": {},
   "outputs": [
    {
     "name": "stdout",
     "output_type": "stream",
     "text": [
      "(12,) (12,)\n",
      "True\n"
     ]
    }
   ],
   "source": [
    "print(revenue.shape, expenses.shape)\n",
    "print(revenue.shape == expenses.shape)"
   ]
  },
  {
   "cell_type": "markdown",
   "id": "9b7366ed",
   "metadata": {},
   "source": [
    "Caluclate the profit for each month\n",
    "\n",
    "The data from before belongs to a company's information in the last 12 months"
   ]
  },
  {
   "cell_type": "code",
   "execution_count": 20,
   "id": "f890503b",
   "metadata": {},
   "outputs": [
    {
     "data": {
      "text/plain": [
       "array([ 2522.67,  1911.39, -3707.79, -2914.31,  -599.92,  7265.24,\n",
       "        8210.55,  3944.97,  3328.39, -2238.65,   659.6 , 11629.54])"
      ]
     },
     "execution_count": 20,
     "metadata": {},
     "output_type": "execute_result"
    }
   ],
   "source": [
    "# Calculate the profit\n",
    "profit = revenue-expenses\n",
    "profit"
   ]
  },
  {
   "cell_type": "code",
   "execution_count": 22,
   "id": "00e346f6",
   "metadata": {},
   "outputs": [
    {
     "data": {
      "text/plain": [
       "array([ 1765.869,  1337.973, -2595.453, -2040.017,  -419.944,  5085.668,\n",
       "        5747.385,  2761.479,  2329.873, -1567.055,   461.72 ,  8140.678])"
      ]
     },
     "execution_count": 22,
     "metadata": {},
     "output_type": "execute_result"
    }
   ],
   "source": [
    "# Profit after tax, the taxAmt is of 30%\n",
    "PAT = profit - (profit*0.3)\n",
    "PAT"
   ]
  },
  {
   "cell_type": "code",
   "execution_count": 27,
   "id": "ccc3915b",
   "metadata": {},
   "outputs": [
    {
     "data": {
      "text/plain": [
       "array([ 12,  18, -30, -22,  -5,  63,  50,  28,  23, -11,   4,  53])"
      ]
     },
     "execution_count": 27,
     "metadata": {},
     "output_type": "execute_result"
    }
   ],
   "source": [
    "# Profit margin, PAT dividedby revenue, calculated as percentage\n",
    "# rounded to zero decimals\n",
    "pMargin = np.round(PAT/revenue*100).astype('int')\n",
    "pMargin"
   ]
  },
  {
   "cell_type": "markdown",
   "id": "91faf75a",
   "metadata": {},
   "source": [
    "# 2D Arrays/Matrix"
   ]
  },
  {
   "cell_type": "code",
   "execution_count": 32,
   "id": "085fb80a",
   "metadata": {},
   "outputs": [
    {
     "data": {
      "text/plain": [
       "array([ 0,  1,  2,  3,  4,  5,  6,  7,  8,  9, 10, 11, 12, 13, 14, 15, 16,\n",
       "       17, 18, 19])"
      ]
     },
     "execution_count": 32,
     "metadata": {},
     "output_type": "execute_result"
    }
   ],
   "source": [
    "arr = np.arange(20)\n",
    "arr"
   ]
  },
  {
   "cell_type": "code",
   "execution_count": null,
   "id": "630fcffd",
   "metadata": {},
   "outputs": [],
   "source": [
    "# To make the array into a matrix/2D array\n",
    "\"\"\"\"\n",
    "newShape = (row, col) = row*col = 20\n",
    "20 because we have 20 elements in our array (created above)\n",
    "\"\"\"\""
   ]
  },
  {
   "cell_type": "code",
   "execution_count": 33,
   "id": "71956c07",
   "metadata": {},
   "outputs": [
    {
     "data": {
      "text/plain": [
       "array([[ 0,  1,  2,  3],\n",
       "       [ 4,  5,  6,  7],\n",
       "       [ 8,  9, 10, 11],\n",
       "       [12, 13, 14, 15],\n",
       "       [16, 17, 18, 19]])"
      ]
     },
     "execution_count": 33,
     "metadata": {},
     "output_type": "execute_result"
    }
   ],
   "source": [
    "m1 = np.reshape(arr, (5,4))\n",
    "m1"
   ]
  },
  {
   "cell_type": "code",
   "execution_count": 34,
   "id": "adaac84d",
   "metadata": {},
   "outputs": [
    {
     "name": "stdout",
     "output_type": "stream",
     "text": [
      "2 (5, 4)\n"
     ]
    }
   ],
   "source": [
    "print(m1.ndim, m1.shape)"
   ]
  },
  {
   "cell_type": "code",
   "execution_count": 37,
   "id": "c4940599",
   "metadata": {},
   "outputs": [
    {
     "data": {
      "text/plain": [
       "array([[ 0,  4,  8, 12],\n",
       "       [16,  1,  5,  9],\n",
       "       [13, 17,  2,  6],\n",
       "       [10, 14, 18,  3],\n",
       "       [ 7, 11, 15, 19]])"
      ]
     },
     "execution_count": 37,
     "metadata": {},
     "output_type": "execute_result"
    }
   ],
   "source": [
    "# Square brackets create 1 array\n",
    "m2 = np.array([[0,4,8,12],\n",
    "              [16,1,5,9],\n",
    "              [13,17,2,6],\n",
    "              [10,14,18,3],\n",
    "              [7,11,15,19]])\n",
    "m2"
   ]
  },
  {
   "cell_type": "code",
   "execution_count": 40,
   "id": "0df9ccbf",
   "metadata": {},
   "outputs": [
    {
     "data": {
      "text/plain": [
       "array([[ 0,  5, 10, 15],\n",
       "       [20,  6, 11, 16],\n",
       "       [21, 26, 12, 17],\n",
       "       [22, 27, 32, 18],\n",
       "       [23, 28, 33, 38]])"
      ]
     },
     "execution_count": 40,
     "metadata": {},
     "output_type": "execute_result"
    }
   ],
   "source": [
    "# This isn't a matrix multiplication\n",
    "# each index is being multiplied by the value in the same index\n",
    "m1+m2"
   ]
  },
  {
   "cell_type": "code",
   "execution_count": null,
   "id": "7d0c7385",
   "metadata": {},
   "outputs": [],
   "source": []
  }
 ],
 "metadata": {
  "kernelspec": {
   "display_name": "Python 3 (ipykernel)",
   "language": "python",
   "name": "python3"
  },
  "language_info": {
   "codemirror_mode": {
    "name": "ipython",
    "version": 3
   },
   "file_extension": ".py",
   "mimetype": "text/x-python",
   "name": "python",
   "nbconvert_exporter": "python",
   "pygments_lexer": "ipython3",
   "version": "3.9.12"
  }
 },
 "nbformat": 4,
 "nbformat_minor": 5
}
